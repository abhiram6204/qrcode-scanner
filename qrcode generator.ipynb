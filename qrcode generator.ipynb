{
 "cells": [
  {
   "cell_type": "code",
   "execution_count": 2,
   "id": "0f3b86a0",
   "metadata": {},
   "outputs": [
    {
     "name": "stdout",
     "output_type": "stream",
     "text": [
      "Collecting pyqrcode\n",
      "  Downloading PyQRCode-1.2.1.zip (41 kB)\n",
      "     ---------------------------------------- 0.0/41.9 kB ? eta -:--:--\n",
      "     ---------------------------------------- 41.9/41.9 kB ? eta 0:00:00\n",
      "  Preparing metadata (setup.py): started\n",
      "  Preparing metadata (setup.py): finished with status 'done'\n",
      "Building wheels for collected packages: pyqrcode\n",
      "  Building wheel for pyqrcode (setup.py): started\n",
      "  Building wheel for pyqrcode (setup.py): finished with status 'done'\n",
      "  Created wheel for pyqrcode: filename=PyQRCode-1.2.1-py3-none-any.whl size=36240 sha256=6c5aef9c886354412e524e35519717b4964ebdfa6b03a8d3313fbae5c3ad7be3\n",
      "  Stored in directory: c:\\users\\abhiram\\appdata\\local\\pip\\cache\\wheels\\f5\\db\\22\\ade11e0c0854d1bb2fcc673dc90f6495ee2c0d2b6eb41492e3\n",
      "Successfully built pyqrcode\n",
      "Installing collected packages: pyqrcode\n",
      "Successfully installed pyqrcode-1.2.1\n"
     ]
    }
   ],
   "source": [
    "!pip install pyqrcode"
   ]
  },
  {
   "cell_type": "code",
   "execution_count": 4,
   "id": "8612cfae",
   "metadata": {},
   "outputs": [],
   "source": [
    "import pyqrcode \n",
    "from pyqrcode import QRCode \n",
    "  \n",
    "# String which represent the QR code \n",
    "s = \"https://www.youtube.com/channel/UCeO9hPCfRzqb2yTuAn713Mg\"\n",
    "  \n",
    "# Generate QR code \n",
    "url = pyqrcode.create(s) \n",
    "  \n",
    "# Create and save the png file naming\n",
    "url.svg(\"qrcode1.svg\",scale=8)"
   ]
  },
  {
   "cell_type": "code",
   "execution_count": null,
   "id": "71c388d4",
   "metadata": {},
   "outputs": [],
   "source": []
  }
 ],
 "metadata": {
  "kernelspec": {
   "display_name": "Python 3 (ipykernel)",
   "language": "python",
   "name": "python3"
  },
  "language_info": {
   "codemirror_mode": {
    "name": "ipython",
    "version": 3
   },
   "file_extension": ".py",
   "mimetype": "text/x-python",
   "name": "python",
   "nbconvert_exporter": "python",
   "pygments_lexer": "ipython3",
   "version": "3.11.4"
  }
 },
 "nbformat": 4,
 "nbformat_minor": 5
}
